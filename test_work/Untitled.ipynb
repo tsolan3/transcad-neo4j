{
 "cells": [
  {
   "cell_type": "code",
   "execution_count": null,
   "metadata": {},
   "outputs": [
    {
     "ename": "NameError",
     "evalue": "name 'G2' is not defined",
     "traceback": [
      "\u001b[0;31m---------------------------------------------------------------------------\u001b[0m",
      "\u001b[0;31mNameError\u001b[0m                                 Traceback (most recent call last)",
      "\u001b[0;32m<ipython-input-5-6c1b7fe2ac79>\u001b[0m in \u001b[0;36m<module>\u001b[0;34m\u001b[0m\n\u001b[1;32m      8\u001b[0m \u001b[0;32mfor\u001b[0m \u001b[0mindex\u001b[0m\u001b[0;34m,\u001b[0m \u001b[0medge\u001b[0m \u001b[0;32min\u001b[0m \u001b[0menumerate\u001b[0m\u001b[0;34m(\u001b[0m\u001b[0mshortest_edges\u001b[0m\u001b[0;34m)\u001b[0m\u001b[0;34m:\u001b[0m\u001b[0;34m\u001b[0m\u001b[0m\n\u001b[1;32m      9\u001b[0m     \u001b[0;32mtry\u001b[0m\u001b[0;34m:\u001b[0m\u001b[0;34m\u001b[0m\u001b[0m\n\u001b[0;32m---> 10\u001b[0;31m         \u001b[0mnode1_coords\u001b[0m \u001b[0;34m=\u001b[0m \u001b[0;34m[\u001b[0m\u001b[0;34m[\u001b[0m\u001b[0my\u001b[0m\u001b[0;34m[\u001b[0m\u001b[0;34m'longitude'\u001b[0m\u001b[0;34m]\u001b[0m\u001b[0;34m,\u001b[0m \u001b[0my\u001b[0m\u001b[0;34m[\u001b[0m\u001b[0;34m'latitude'\u001b[0m\u001b[0;34m]\u001b[0m\u001b[0;34m]\u001b[0m \u001b[0;32mfor\u001b[0m \u001b[0mx\u001b[0m\u001b[0;34m,\u001b[0m \u001b[0my\u001b[0m \u001b[0;32min\u001b[0m \u001b[0mG2\u001b[0m\u001b[0;34m.\u001b[0m\u001b[0mnodes\u001b[0m\u001b[0;34m(\u001b[0m\u001b[0mdata\u001b[0m\u001b[0;34m=\u001b[0m\u001b[0;32mTrue\u001b[0m\u001b[0;34m)\u001b[0m \u001b[0;32mif\u001b[0m \u001b[0mx\u001b[0m \u001b[0;34m==\u001b[0m \u001b[0medge\u001b[0m\u001b[0;34m]\u001b[0m\u001b[0;34m\u001b[0m\u001b[0m\n\u001b[0m\u001b[1;32m     11\u001b[0m         node2_coords = [[y['longitude'], y['latitude']] for x, y in G2.nodes(data=True) \n\u001b[1;32m     12\u001b[0m                         if x == shortest_edges[index+1]]\n",
      "\u001b[0;31mNameError\u001b[0m: name 'G2' is not defined"
     ],
     "output_type": "error"
    }
   ],
   "source": [
    "from bokeh.plotting import figure, output_notebook, show\n",
    "\n",
    "\n",
    "p = figure(plot_width=400, plot_height=400)\n",
    "\n",
    "shortest_edges = [4654, 15683, 12926, 14134, 13162, 15402, 14195, 12214, 10676, 11882, 10736, 14191, 12074, 13920, 10911, 14660, 14706, 13304, 14058, 15693, 11820, 26270, 14527, 15383, 26025, 12699, 12756, 13260, 15365, 12768, 11523, 12434, 13720, 15141, 11930, 10757, 12325, 12049, 13615, 13836, 12107, 12015]\n",
    "# add a line renderer\n",
    "for index, edge in enumerate(shortest_edges):\n",
    "    try:\n",
    "        node1_coords = [[y['longitude'], y['latitude']] for x, y in G2.nodes(data=True) if x == edge]\n",
    "        node2_coords = [[y['longitude'], y['latitude']] for x, y in G2.nodes(data=True) \n",
    "                        if x == shortest_edges[index+1]]\n",
    "        longs = [node1_coords[0], node2_coords[0]]\n",
    "        lats = [node1_coords[1], node2_coords[1]]\n",
    "        p.line(longs, lats, color='red', line_width=10)\n",
    "    except IndexError:\n",
    "        continue\n",
    "output_notebook()\n",
    "show(p)"
   ]
  },
  {
   "cell_type": "code",
   "execution_count": null,
   "metadata": {},
   "outputs": [],
   "source": [
    ""
   ]
  }
 ],
 "metadata": {
  "kernelspec": {
   "display_name": "Python 3",
   "language": "python",
   "name": "python3"
  },
  "language_info": {
   "codemirror_mode": {
    "name": "ipython",
    "version": 3.0
   },
   "file_extension": ".py",
   "mimetype": "text/x-python",
   "name": "python",
   "nbconvert_exporter": "python",
   "pygments_lexer": "ipython3",
   "version": "3.6.1"
  }
 },
 "nbformat": 4,
 "nbformat_minor": 0
}