{
 "cells": [
  {
   "cell_type": "code",
   "execution_count": 214,
   "metadata": {},
   "outputs": [],
   "source": [
    "import itertools\n",
    "import networkx as nx\n",
    "\n",
    "\n",
    "#\n",
    "# from neo4j_to_networkx import get_penalties_data\n",
    "#\n",
    "#\n",
    "# def add_penalty_edges(graph):\n",
    "#     penalties = get_penalties_data()  # данные о штрафах из файла\n",
    "#     coordinate_nodes = list(graph.nodes)[:]  # получаем все координатные узлы и делаем копию на всякий случай\n",
    "#     for node in coordinate_nodes:\n",
    "#         in_edges = graph.in_edges(node, data=True)  # для каждой координатной точки ищем входящие и выходящие ребра\n",
    "#         out_edges = graph.out_edges(node, data=True)\n",
    "#         edge_pairs = list(itertools.product(in_edges, out_edges))  # находим пары ребер\n",
    "#         for edge_pair in edge_pairs:\n",
    "#             in_edge_link_type = edge_pair[0][2]['link_type_id']\n",
    "#             out_edge_link_type = edge_pair[1][2]['link_type_id']\n",
    "#             for data in penalties:\n",
    "#                 if [in_edge_link_type, out_edge_link_type] == [data['link_type_id_1'], data['link_type_id_2']]:\n",
    "#                         # and data['normal_penalty'] != 0:\n",
    "#                     graph.add_edge(node, node, time=data['normal_penalty'], type='penalty')\n",
    "\n",
    "def add_penalties(graph):\n",
    "    \n",
    "    #  получаем все координатные узлы\n",
    "    coordinate_nodes = [(x, y) for x, y in graph.nodes(data=True) if y['type'] == 'coord']\n",
    "    coordinate_edges = list(graph.edges())\n",
    "\n",
    "    # для каждой координатной точки ищем входящие и выходящие ребра и составляем пары\n",
    "    for node in coordinate_nodes:\n",
    "        in_edges = list(graph.in_edges(node[0], data=True))[:]  \n",
    "        out_edges = list(graph.out_edges(node[0], data=True))[:]\n",
    "        \n",
    "        in_edges_coords = [edge for edge in in_edges if (isinstance(edge[0], int) and isinstance(edge[1], int))]\n",
    "        out_edges_coords = [edge for edge in out_edges if (isinstance(edge[0], int) and isinstance(edge[1], int))]\n",
    "        \n",
    "        edge_pairs = list(itertools.product(in_edges, out_edges))  # находим пары ребер\n",
    "        \n",
    "\n",
    "        # если у точки нет входящих/выходящих потоков (т.е. нет пар ребер)\n",
    "        edge_pair_id = 1\n",
    "#         if not in_edges:\n",
    "#             graph.add_node(f'{node[0]}_out_{edge_pair_id}', node_pk=node[0], type='penalty_node')\n",
    "\n",
    "#             for out_edge in out_edges:\n",
    "#                 graph.add_edge(f'{node[0]}_out_{edge_pair_id}', out_edge[1])\n",
    "#                 graph.remove_edge(out_edge[0], out_edge[1])\n",
    "#             continue\n",
    "\n",
    "#         elif not out_edges:\n",
    "#             graph.add_node(f'{node[0]}_in_{edge_pair_id}', node_pk=node[0], type='penalty_node')\n",
    "#             for out_edge in out_edges:\n",
    "#                 graph.add_edge(f'{node[0]}_out_{edge_pair_id}', out_edge[0])\n",
    "#                 graph.remove_edge(out_edge[0], out_edge[1])\n",
    "#             continue\n",
    "            \n",
    "        for edge_pair in edge_pairs:\n",
    "            edge_pair_id += 1\n",
    "            # это точно делаем\n",
    "            graph.add_node(f'{node[0]}_in_{edge_pair_id}', node_pk=node[0], type='penalty_node')\n",
    "            graph.add_node(f'{node[0]}_out_{edge_pair_id}', node_pk=node[0], type='penalty_node')\n",
    "            graph.add_edge(f'{node[0]}_in_{edge_pair_id}', f'{node[0]}_out_{edge_pair_id}',\n",
    "                           time=1.01, type='penalty_edge') # штрафное ребро\n",
    "            graph.add_edge(edge_pair[0][0], f'{node[0]}_in_{edge_pair_id}', **edge_pair[0][2])\n",
    "            graph.add_edge(f'{node[0]}_out_{edge_pair_id}', edge_pair[1][1], **edge_pair[1][2])\n",
    "            \n",
    "            # ТЕПЕРЬ НУЖНО \n",
    "    graph.remove_edges_from(coordinate_edges)\n",
    "            \n",
    "#         graph.remove_node(node[0])\n",
    "        \n",
    "#     for node in coordinate_nodes:\n",
    "#         graph.remove_node(node[0])\n",
    "#         graph.add_node(node[0], **node[1])\n",
    "\n",
    "\n",
    "def get_shortest_path(graph, source, target):\n",
    "    nodes = list(graph.nodes(data=True))\n",
    "    for node in nodes:\n",
    "        if f'{source}_out' in str(node[0]):\n",
    "            graph.add_edge(source, node[0], time=0)\n",
    "        if f'{target}_in' in str(node[0]):\n",
    "            graph.add_edge(node[0], target, time=0)\n",
    "\n",
    "    shortest_path = nx.shortest_path(graph, source, target, weight='time')\n",
    "\n",
    "    return shortest_path"
   ]
  },
  {
   "cell_type": "code",
   "execution_count": 215,
   "metadata": {},
   "outputs": [
    {
     "name": "stdout",
     "output_type": "stream",
     "text": [
      "[1, '2_in_3', '2_out_3', 4]\n",
      "edges 12\n",
      "nodes 12\n",
      "nodes all [1, 2, 3, 4, '2_in_2', '2_out_2', '2_in_3', '2_out_3', '3_in_2', '3_out_2', '3_in_3', '3_out_3']\n"
     ]
    },
    {
     "data": {
      "image/png": "[encoded data removed]",
      "text/plain": [
       "<Figure size 432x288 with 1 Axes>"
      ]
     },
     "metadata": {},
     "output_type": "display_data"
    }
   ],
   "source": [
    "G = nx.MultiDiGraph()\n",
    "\n",
    "node_ids = [1, 2, 3, 4]\n",
    "for node in node_ids:\n",
    "    G.add_node(node, node_pk=node, type='coord')\n",
    "\n",
    "G.add_edge(1, 2, time=2)\n",
    "G.add_edge(2, 3, time=3)\n",
    "G.add_edge(3, 4, time=3)\n",
    "G.add_edge(2, 4, time=7)\n",
    "\n",
    "\n",
    "    # print(G.in_edges(2))\n",
    "    # print(G.out_edges(2))\n",
    "    # print(nx.shortest_path(G, 1, 4, weight='time'))\n",
    "    #\n",
    "    # print('edges', G.number_of_edges())\n",
    "    # print('nodes', G.number_of_nodes())\n",
    "    #\n",
    "nx.draw(G)\n",
    "add_penalties(G)\n",
    "\n",
    "\n",
    "# print(get_shortest_path(G, 1, 4))\n",
    "\n",
    "\n",
    "print(nx.shortest_path(G, 1, 4, weight='time'))\n",
    "\n",
    "print('edges', G.number_of_edges())\n",
    "print('nodes', G.number_of_nodes())\n",
    "print('nodes all', G.nodes())"
   ]
  },
  {
   "cell_type": "code",
   "execution_count": 195,
   "metadata": {},
   "outputs": [
    {
     "name": "stdout",
     "output_type": "stream",
     "text": [
      "[1, 2, 3, 4, '2_in_2', '2_out_2', '2_in_3', '2_out_3', '3_in_2', '3_out_2']\n"
     ]
    }
   ],
   "source": [
    "import matplotlib.pyplot as plt\n",
    "\n",
    "# nodes_type_coord = [x for x, y in G.nodes(data=True) if y['type'] == 'coord']\n",
    "nodes_type_coord = G.nodes()\n",
    "print(nodes_type_coord)\n",
    "nodes_coords = []\n",
    "for node in nodes_type_coord:\n",
    "    if len(str(node)) > 1:\n",
    "        nodes_coords.append((int(node[-1]), int(node[0])))\n",
    "    else:\n",
    "        nodes_coords.append([int(node), 0])\n",
    "    \n",
    "# for node in nodes:\n",
    "#     if len(str(node)) > 1:\n",
    "#         nodes_coords.append((int(node[-1]), int(node[0])))\n",
    "#     else:\n",
    "#     nodes_coords.append((int(node), 0))\n",
    "        \n",
    "# for node in nodes_coords:\n",
    "#     plt.plot(*node, 'r.')\n",
    "    \n",
    "# plt.show()"
   ]
  },
  {
   "cell_type": "code",
   "execution_count": null,
   "metadata": {},
   "outputs": [],
   "source": []
  },
  {
   "cell_type": "code",
   "execution_count": null,
   "metadata": {},
   "outputs": [],
   "source": []
  }
 ],
 "metadata": {
  "kernelspec": {
   "display_name": "Python 3",
   "language": "python",
   "name": "python3"
  },
  "language_info": {
   "codemirror_mode": {
    "name": "ipython",
    "version": 3
   },
   "file_extension": ".py",
   "mimetype": "text/x-python",
   "name": "python",
   "nbconvert_exporter": "python",
   "pygments_lexer": "ipython3",
   "version": "3.6.1"
  }
 },
 "nbformat": 4,
 "nbformat_minor": 1
}
